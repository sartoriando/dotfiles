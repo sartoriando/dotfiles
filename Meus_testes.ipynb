{
  "nbformat": 4,
  "nbformat_minor": 0,
  "metadata": {
    "colab": {
      "name": "Meus testes.ipynb",
      "provenance": [],
      "authorship_tag": "ABX9TyN5ujYyaTojxq61bsmdQlhI",
      "include_colab_link": true
    },
    "kernelspec": {
      "name": "python3",
      "display_name": "Python 3"
    }
  },
  "cells": [
    {
      "cell_type": "markdown",
      "metadata": {
        "id": "view-in-github",
        "colab_type": "text"
      },
      "source": [
        "<a href=\"https://colab.research.google.com/github/sartoriando/dotfiles/blob/master/Meus_testes.ipynb\" target=\"_parent\"><img src=\"https://colab.research.google.com/assets/colab-badge.svg\" alt=\"Open In Colab\"/></a>"
      ]
    },
    {
      "cell_type": "code",
      "metadata": {
        "id": "Dn337CZtkgQR"
      },
      "source": [
        "import numpy as np\r\n",
        "import pandas as pd\r\n",
        "# import zipfile\r\n",
        "# import requests, zipfile, io\r\n",
        "from lxml import objectify\r\n",
        "\r\n"
      ],
      "execution_count": 9,
      "outputs": []
    },
    {
      "cell_type": "code",
      "metadata": {
        "colab": {
          "base_uri": "https://localhost:8080/"
        },
        "id": "Ithp9W39SSRq",
        "outputId": "40b3ca0f-5ddf-4168-d01c-fca5a5d86776"
      },
      "source": [
        "# !pip install xmltodict"
      ],
      "execution_count": 5,
      "outputs": [
        {
          "output_type": "stream",
          "text": [
            "Requirement already satisfied: xmltodict in /usr/local/lib/python3.7/dist-packages (0.12.0)\n"
          ],
          "name": "stdout"
        }
      ]
    },
    {
      "cell_type": "code",
      "metadata": {
        "id": "lguS0lD7QWSD"
      },
      "source": [
        "# import pandas_read_xml as pdx\r\n",
        "import xml.etree.ElementTree as ET\r\n",
        "import xmltodict\r\n",
        "import json\r\n",
        "import requests"
      ],
      "execution_count": 10,
      "outputs": []
    },
    {
      "cell_type": "code",
      "metadata": {
        "colab": {
          "base_uri": "https://localhost:8080/",
          "height": 134
        },
        "id": "cs6_f6wJaZ1s",
        "outputId": "b8367a4e-07ee-4525-80d3-53b09e4d7392"
      },
      "source": [
        "url = 'https://dadosabertos.camara.leg.br/api/v2/deputados/215361'\r\n",
        "\r\n",
        "headers = {'content-type': 'application/json', 'Accept-Charset': 'UTF-8'}\r\n",
        "\r\n",
        "r = requests.get(url, headers=headers)\r\n",
        "r.json()\r\n",
        "\r\n",
        "j = r.json()\r\n",
        "df_rachel = pd.json_normalize(j)\r\n",
        "df_rachel\r\n",
        "\r\n",
        "\r\n",
        "\r\n"
      ],
      "execution_count": 11,
      "outputs": [
        {
          "output_type": "execute_result",
          "data": {
            "text/html": [
              "<div>\n",
              "<style scoped>\n",
              "    .dataframe tbody tr th:only-of-type {\n",
              "        vertical-align: middle;\n",
              "    }\n",
              "\n",
              "    .dataframe tbody tr th {\n",
              "        vertical-align: top;\n",
              "    }\n",
              "\n",
              "    .dataframe thead th {\n",
              "        text-align: right;\n",
              "    }\n",
              "</style>\n",
              "<table border=\"1\" class=\"dataframe\">\n",
              "  <thead>\n",
              "    <tr style=\"text-align: right;\">\n",
              "      <th></th>\n",
              "      <th>links</th>\n",
              "      <th>dados.id</th>\n",
              "      <th>dados.uri</th>\n",
              "      <th>dados.nomeCivil</th>\n",
              "      <th>dados.ultimoStatus.id</th>\n",
              "      <th>dados.ultimoStatus.uri</th>\n",
              "      <th>dados.ultimoStatus.nome</th>\n",
              "      <th>dados.ultimoStatus.siglaPartido</th>\n",
              "      <th>dados.ultimoStatus.uriPartido</th>\n",
              "      <th>dados.ultimoStatus.siglaUf</th>\n",
              "      <th>dados.ultimoStatus.idLegislatura</th>\n",
              "      <th>dados.ultimoStatus.urlFoto</th>\n",
              "      <th>dados.ultimoStatus.email</th>\n",
              "      <th>dados.ultimoStatus.data</th>\n",
              "      <th>dados.ultimoStatus.nomeEleitoral</th>\n",
              "      <th>dados.ultimoStatus.gabinete.nome</th>\n",
              "      <th>dados.ultimoStatus.gabinete.predio</th>\n",
              "      <th>dados.ultimoStatus.gabinete.sala</th>\n",
              "      <th>dados.ultimoStatus.gabinete.andar</th>\n",
              "      <th>dados.ultimoStatus.gabinete.telefone</th>\n",
              "      <th>dados.ultimoStatus.gabinete.email</th>\n",
              "      <th>dados.ultimoStatus.situacao</th>\n",
              "      <th>dados.ultimoStatus.condicaoEleitoral</th>\n",
              "      <th>dados.ultimoStatus.descricaoStatus</th>\n",
              "      <th>dados.cpf</th>\n",
              "      <th>dados.sexo</th>\n",
              "      <th>dados.urlWebsite</th>\n",
              "      <th>dados.redeSocial</th>\n",
              "      <th>dados.dataNascimento</th>\n",
              "      <th>dados.dataFalecimento</th>\n",
              "      <th>dados.ufNascimento</th>\n",
              "      <th>dados.municipioNascimento</th>\n",
              "      <th>dados.escolaridade</th>\n",
              "    </tr>\n",
              "  </thead>\n",
              "  <tbody>\n",
              "    <tr>\n",
              "      <th>0</th>\n",
              "      <td>[{'rel': 'self', 'href': 'https://dadosabertos...</td>\n",
              "      <td>215361</td>\n",
              "      <td>https://dadosabertos.camara.leg.br/api/v2/depu...</td>\n",
              "      <td>RACHEL XIMENES MARQUES</td>\n",
              "      <td>215361</td>\n",
              "      <td>https://dadosabertos.camara.leg.br/api/v2/depu...</td>\n",
              "      <td>Rachel Marques</td>\n",
              "      <td>PT</td>\n",
              "      <td>https://dadosabertos.camara.leg.br/api/v2/part...</td>\n",
              "      <td>CE</td>\n",
              "      <td>56</td>\n",
              "      <td>https://www.camara.leg.br/internet/deputado/ba...</td>\n",
              "      <td>None</td>\n",
              "      <td>2021-02-10T12:07</td>\n",
              "      <td>Rachel Marques</td>\n",
              "      <td>None</td>\n",
              "      <td>None</td>\n",
              "      <td>None</td>\n",
              "      <td>None</td>\n",
              "      <td>None</td>\n",
              "      <td>None</td>\n",
              "      <td>Suplência</td>\n",
              "      <td>Suplente</td>\n",
              "      <td>None</td>\n",
              "      <td>21348464372</td>\n",
              "      <td>F</td>\n",
              "      <td>None</td>\n",
              "      <td>[]</td>\n",
              "      <td>1961-11-05</td>\n",
              "      <td>None</td>\n",
              "      <td>CE</td>\n",
              "      <td>Fortaleza</td>\n",
              "      <td>Superior</td>\n",
              "    </tr>\n",
              "  </tbody>\n",
              "</table>\n",
              "</div>"
            ],
            "text/plain": [
              "                                               links  ...  dados.escolaridade\n",
              "0  [{'rel': 'self', 'href': 'https://dadosabertos...  ...            Superior\n",
              "\n",
              "[1 rows x 33 columns]"
            ]
          },
          "metadata": {
            "tags": []
          },
          "execution_count": 11
        }
      ]
    },
    {
      "cell_type": "code",
      "metadata": {
        "colab": {
          "base_uri": "https://localhost:8080/",
          "height": 117
        },
        "id": "8QTEechs-y2X",
        "outputId": "baa99dba-b839-4c8b-db5f-33c045140c3f"
      },
      "source": [
        "url_2 = 'https://dadosabertos.camara.leg.br/api/v2/deputados/2'\r\n",
        "\r\n",
        "headers_2 = {'content-type': 'application/json', 'Accept-Charset': 'UTF-8'}\r\n",
        "\r\n",
        "t = requests.get('https://dadosabertos.camara.leg.br/api/v2/deputados/2', headers={'content-type': 'application/json', 'Accept-Charset': 'UTF-8'})\r\n",
        "t.json()\r\n",
        "\r\n",
        "u = t.json()\r\n",
        "df_gama = pd.json_normalize(u)\r\n",
        "df_gama"
      ],
      "execution_count": 12,
      "outputs": [
        {
          "output_type": "execute_result",
          "data": {
            "text/html": [
              "<div>\n",
              "<style scoped>\n",
              "    .dataframe tbody tr th:only-of-type {\n",
              "        vertical-align: middle;\n",
              "    }\n",
              "\n",
              "    .dataframe tbody tr th {\n",
              "        vertical-align: top;\n",
              "    }\n",
              "\n",
              "    .dataframe thead th {\n",
              "        text-align: right;\n",
              "    }\n",
              "</style>\n",
              "<table border=\"1\" class=\"dataframe\">\n",
              "  <thead>\n",
              "    <tr style=\"text-align: right;\">\n",
              "      <th></th>\n",
              "      <th>links</th>\n",
              "      <th>dados.id</th>\n",
              "      <th>dados.uri</th>\n",
              "      <th>dados.nomeCivil</th>\n",
              "      <th>dados.ultimoStatus.id</th>\n",
              "      <th>dados.ultimoStatus.uri</th>\n",
              "      <th>dados.ultimoStatus.nome</th>\n",
              "      <th>dados.ultimoStatus.siglaPartido</th>\n",
              "      <th>dados.ultimoStatus.uriPartido</th>\n",
              "      <th>dados.ultimoStatus.siglaUf</th>\n",
              "      <th>dados.ultimoStatus.idLegislatura</th>\n",
              "      <th>dados.ultimoStatus.urlFoto</th>\n",
              "      <th>dados.ultimoStatus.email</th>\n",
              "      <th>dados.ultimoStatus.data</th>\n",
              "      <th>dados.ultimoStatus.nomeEleitoral</th>\n",
              "      <th>dados.ultimoStatus.gabinete.nome</th>\n",
              "      <th>dados.ultimoStatus.gabinete.predio</th>\n",
              "      <th>dados.ultimoStatus.gabinete.sala</th>\n",
              "      <th>dados.ultimoStatus.gabinete.andar</th>\n",
              "      <th>dados.ultimoStatus.gabinete.telefone</th>\n",
              "      <th>dados.ultimoStatus.gabinete.email</th>\n",
              "      <th>dados.ultimoStatus.situacao</th>\n",
              "      <th>dados.ultimoStatus.condicaoEleitoral</th>\n",
              "      <th>dados.ultimoStatus.descricaoStatus</th>\n",
              "      <th>dados.cpf</th>\n",
              "      <th>dados.sexo</th>\n",
              "      <th>dados.urlWebsite</th>\n",
              "      <th>dados.redeSocial</th>\n",
              "      <th>dados.dataNascimento</th>\n",
              "      <th>dados.dataFalecimento</th>\n",
              "      <th>dados.ufNascimento</th>\n",
              "      <th>dados.municipioNascimento</th>\n",
              "      <th>dados.escolaridade</th>\n",
              "    </tr>\n",
              "  </thead>\n",
              "  <tbody>\n",
              "    <tr>\n",
              "      <th>0</th>\n",
              "      <td>[{'rel': 'self', 'href': 'https://dadosabertos...</td>\n",
              "      <td>2</td>\n",
              "      <td>https://dadosabertos.camara.leg.br/api/v2/depu...</td>\n",
              "      <td>Caetano Maria Lopes Gama</td>\n",
              "      <td>2</td>\n",
              "      <td>https://dadosabertos.camara.leg.br/api/v2/depu...</td>\n",
              "      <td>LOPES GAMA</td>\n",
              "      <td>None</td>\n",
              "      <td>None</td>\n",
              "      <td>GO</td>\n",
              "      <td>2</td>\n",
              "      <td>https://www.camara.leg.br/internet/deputado/ba...</td>\n",
              "      <td>None</td>\n",
              "      <td>None</td>\n",
              "      <td>LOPES GAMA</td>\n",
              "      <td>None</td>\n",
              "      <td>None</td>\n",
              "      <td>None</td>\n",
              "      <td>None</td>\n",
              "      <td>None</td>\n",
              "      <td>None</td>\n",
              "      <td>Vacância</td>\n",
              "      <td>None</td>\n",
              "      <td>None</td>\n",
              "      <td>None</td>\n",
              "      <td>M</td>\n",
              "      <td>None</td>\n",
              "      <td>[]</td>\n",
              "      <td>1795-08-05</td>\n",
              "      <td>None</td>\n",
              "      <td>PE</td>\n",
              "      <td>Recife</td>\n",
              "      <td>Superior</td>\n",
              "    </tr>\n",
              "  </tbody>\n",
              "</table>\n",
              "</div>"
            ],
            "text/plain": [
              "                                               links  ...  dados.escolaridade\n",
              "0  [{'rel': 'self', 'href': 'https://dadosabertos...  ...            Superior\n",
              "\n",
              "[1 rows x 33 columns]"
            ]
          },
          "metadata": {
            "tags": []
          },
          "execution_count": 12
        }
      ]
    },
    {
      "cell_type": "code",
      "metadata": {
        "colab": {
          "base_uri": "https://localhost:8080/",
          "height": 182
        },
        "id": "g9w5PbBt_j9a",
        "outputId": "d03cc0a5-f48b-400f-b2fb-d708ade3b99f"
      },
      "source": [
        "df_empty = pd.DataFrame({'A' : []})\r\n",
        "# new_table = pd.concat([df_rachel, df_gama])\r\n",
        "df_rachel = pd.concat([df_rachel, df_gama])\r\n",
        "\r\n",
        "# df_rachel = new_table\r\n",
        "df_rachel\r\n"
      ],
      "execution_count": 13,
      "outputs": [
        {
          "output_type": "execute_result",
          "data": {
            "text/html": [
              "<div>\n",
              "<style scoped>\n",
              "    .dataframe tbody tr th:only-of-type {\n",
              "        vertical-align: middle;\n",
              "    }\n",
              "\n",
              "    .dataframe tbody tr th {\n",
              "        vertical-align: top;\n",
              "    }\n",
              "\n",
              "    .dataframe thead th {\n",
              "        text-align: right;\n",
              "    }\n",
              "</style>\n",
              "<table border=\"1\" class=\"dataframe\">\n",
              "  <thead>\n",
              "    <tr style=\"text-align: right;\">\n",
              "      <th></th>\n",
              "      <th>links</th>\n",
              "      <th>dados.id</th>\n",
              "      <th>dados.uri</th>\n",
              "      <th>dados.nomeCivil</th>\n",
              "      <th>dados.ultimoStatus.id</th>\n",
              "      <th>dados.ultimoStatus.uri</th>\n",
              "      <th>dados.ultimoStatus.nome</th>\n",
              "      <th>dados.ultimoStatus.siglaPartido</th>\n",
              "      <th>dados.ultimoStatus.uriPartido</th>\n",
              "      <th>dados.ultimoStatus.siglaUf</th>\n",
              "      <th>dados.ultimoStatus.idLegislatura</th>\n",
              "      <th>dados.ultimoStatus.urlFoto</th>\n",
              "      <th>dados.ultimoStatus.email</th>\n",
              "      <th>dados.ultimoStatus.data</th>\n",
              "      <th>dados.ultimoStatus.nomeEleitoral</th>\n",
              "      <th>dados.ultimoStatus.gabinete.nome</th>\n",
              "      <th>dados.ultimoStatus.gabinete.predio</th>\n",
              "      <th>dados.ultimoStatus.gabinete.sala</th>\n",
              "      <th>dados.ultimoStatus.gabinete.andar</th>\n",
              "      <th>dados.ultimoStatus.gabinete.telefone</th>\n",
              "      <th>dados.ultimoStatus.gabinete.email</th>\n",
              "      <th>dados.ultimoStatus.situacao</th>\n",
              "      <th>dados.ultimoStatus.condicaoEleitoral</th>\n",
              "      <th>dados.ultimoStatus.descricaoStatus</th>\n",
              "      <th>dados.cpf</th>\n",
              "      <th>dados.sexo</th>\n",
              "      <th>dados.urlWebsite</th>\n",
              "      <th>dados.redeSocial</th>\n",
              "      <th>dados.dataNascimento</th>\n",
              "      <th>dados.dataFalecimento</th>\n",
              "      <th>dados.ufNascimento</th>\n",
              "      <th>dados.municipioNascimento</th>\n",
              "      <th>dados.escolaridade</th>\n",
              "    </tr>\n",
              "  </thead>\n",
              "  <tbody>\n",
              "    <tr>\n",
              "      <th>0</th>\n",
              "      <td>[{'rel': 'self', 'href': 'https://dadosabertos...</td>\n",
              "      <td>215361</td>\n",
              "      <td>https://dadosabertos.camara.leg.br/api/v2/depu...</td>\n",
              "      <td>RACHEL XIMENES MARQUES</td>\n",
              "      <td>215361</td>\n",
              "      <td>https://dadosabertos.camara.leg.br/api/v2/depu...</td>\n",
              "      <td>Rachel Marques</td>\n",
              "      <td>PT</td>\n",
              "      <td>https://dadosabertos.camara.leg.br/api/v2/part...</td>\n",
              "      <td>CE</td>\n",
              "      <td>56</td>\n",
              "      <td>https://www.camara.leg.br/internet/deputado/ba...</td>\n",
              "      <td>None</td>\n",
              "      <td>2021-02-10T12:07</td>\n",
              "      <td>Rachel Marques</td>\n",
              "      <td>None</td>\n",
              "      <td>None</td>\n",
              "      <td>None</td>\n",
              "      <td>None</td>\n",
              "      <td>None</td>\n",
              "      <td>None</td>\n",
              "      <td>Suplência</td>\n",
              "      <td>Suplente</td>\n",
              "      <td>None</td>\n",
              "      <td>21348464372</td>\n",
              "      <td>F</td>\n",
              "      <td>None</td>\n",
              "      <td>[]</td>\n",
              "      <td>1961-11-05</td>\n",
              "      <td>None</td>\n",
              "      <td>CE</td>\n",
              "      <td>Fortaleza</td>\n",
              "      <td>Superior</td>\n",
              "    </tr>\n",
              "    <tr>\n",
              "      <th>0</th>\n",
              "      <td>[{'rel': 'self', 'href': 'https://dadosabertos...</td>\n",
              "      <td>2</td>\n",
              "      <td>https://dadosabertos.camara.leg.br/api/v2/depu...</td>\n",
              "      <td>Caetano Maria Lopes Gama</td>\n",
              "      <td>2</td>\n",
              "      <td>https://dadosabertos.camara.leg.br/api/v2/depu...</td>\n",
              "      <td>LOPES GAMA</td>\n",
              "      <td>None</td>\n",
              "      <td>None</td>\n",
              "      <td>GO</td>\n",
              "      <td>2</td>\n",
              "      <td>https://www.camara.leg.br/internet/deputado/ba...</td>\n",
              "      <td>None</td>\n",
              "      <td>None</td>\n",
              "      <td>LOPES GAMA</td>\n",
              "      <td>None</td>\n",
              "      <td>None</td>\n",
              "      <td>None</td>\n",
              "      <td>None</td>\n",
              "      <td>None</td>\n",
              "      <td>None</td>\n",
              "      <td>Vacância</td>\n",
              "      <td>None</td>\n",
              "      <td>None</td>\n",
              "      <td>None</td>\n",
              "      <td>M</td>\n",
              "      <td>None</td>\n",
              "      <td>[]</td>\n",
              "      <td>1795-08-05</td>\n",
              "      <td>None</td>\n",
              "      <td>PE</td>\n",
              "      <td>Recife</td>\n",
              "      <td>Superior</td>\n",
              "    </tr>\n",
              "  </tbody>\n",
              "</table>\n",
              "</div>"
            ],
            "text/plain": [
              "                                               links  ...  dados.escolaridade\n",
              "0  [{'rel': 'self', 'href': 'https://dadosabertos...  ...            Superior\n",
              "0  [{'rel': 'self', 'href': 'https://dadosabertos...  ...            Superior\n",
              "\n",
              "[2 rows x 33 columns]"
            ]
          },
          "metadata": {
            "tags": []
          },
          "execution_count": 13
        }
      ]
    },
    {
      "cell_type": "code",
      "metadata": {
        "colab": {
          "base_uri": "https://localhost:8080/",
          "height": 216
        },
        "id": "JkP__1HFSQzU",
        "outputId": "7ee5309d-0303-4e45-f653-706774ba056d"
      },
      "source": [
        "# Titulares ou suplentes?\r\n",
        "\r\n",
        "## Renomeando colunas\r\n",
        "\r\n",
        "for i in range(len(df_rachel.keys())):\r\n",
        "  a = df_rachel.keys()[i]\r\n",
        "  old = str(a)\r\n",
        "  new = str(a.split('.')[-1])\r\n",
        "  # new_names[old] = new\r\n",
        "  df_rachel.rename(columns={old:new}, inplace=True)\r\n",
        "\r\n",
        "df_rachel\r\n",
        "\r\n",
        "\r\n"
      ],
      "execution_count": 15,
      "outputs": [
        {
          "output_type": "execute_result",
          "data": {
            "text/html": [
              "<div>\n",
              "<style scoped>\n",
              "    .dataframe tbody tr th:only-of-type {\n",
              "        vertical-align: middle;\n",
              "    }\n",
              "\n",
              "    .dataframe tbody tr th {\n",
              "        vertical-align: top;\n",
              "    }\n",
              "\n",
              "    .dataframe thead th {\n",
              "        text-align: right;\n",
              "    }\n",
              "</style>\n",
              "<table border=\"1\" class=\"dataframe\">\n",
              "  <thead>\n",
              "    <tr style=\"text-align: right;\">\n",
              "      <th></th>\n",
              "      <th>links</th>\n",
              "      <th>id</th>\n",
              "      <th>uri</th>\n",
              "      <th>nomeCivil</th>\n",
              "      <th>id</th>\n",
              "      <th>uri</th>\n",
              "      <th>nome</th>\n",
              "      <th>siglaPartido</th>\n",
              "      <th>uriPartido</th>\n",
              "      <th>siglaUf</th>\n",
              "      <th>idLegislatura</th>\n",
              "      <th>urlFoto</th>\n",
              "      <th>email</th>\n",
              "      <th>data</th>\n",
              "      <th>nomeEleitoral</th>\n",
              "      <th>nome</th>\n",
              "      <th>predio</th>\n",
              "      <th>sala</th>\n",
              "      <th>andar</th>\n",
              "      <th>telefone</th>\n",
              "      <th>email</th>\n",
              "      <th>situacao</th>\n",
              "      <th>condicaoEleitoral</th>\n",
              "      <th>descricaoStatus</th>\n",
              "      <th>cpf</th>\n",
              "      <th>sexo</th>\n",
              "      <th>urlWebsite</th>\n",
              "      <th>redeSocial</th>\n",
              "      <th>dataNascimento</th>\n",
              "      <th>dataFalecimento</th>\n",
              "      <th>ufNascimento</th>\n",
              "      <th>municipioNascimento</th>\n",
              "      <th>escolaridade</th>\n",
              "    </tr>\n",
              "  </thead>\n",
              "  <tbody>\n",
              "    <tr>\n",
              "      <th>0</th>\n",
              "      <td>[{'rel': 'self', 'href': 'https://dadosabertos...</td>\n",
              "      <td>215361</td>\n",
              "      <td>https://dadosabertos.camara.leg.br/api/v2/depu...</td>\n",
              "      <td>RACHEL XIMENES MARQUES</td>\n",
              "      <td>215361</td>\n",
              "      <td>https://dadosabertos.camara.leg.br/api/v2/depu...</td>\n",
              "      <td>Rachel Marques</td>\n",
              "      <td>PT</td>\n",
              "      <td>https://dadosabertos.camara.leg.br/api/v2/part...</td>\n",
              "      <td>CE</td>\n",
              "      <td>56</td>\n",
              "      <td>https://www.camara.leg.br/internet/deputado/ba...</td>\n",
              "      <td>None</td>\n",
              "      <td>2021-02-10T12:07</td>\n",
              "      <td>Rachel Marques</td>\n",
              "      <td>None</td>\n",
              "      <td>None</td>\n",
              "      <td>None</td>\n",
              "      <td>None</td>\n",
              "      <td>None</td>\n",
              "      <td>None</td>\n",
              "      <td>Suplência</td>\n",
              "      <td>Suplente</td>\n",
              "      <td>None</td>\n",
              "      <td>21348464372</td>\n",
              "      <td>F</td>\n",
              "      <td>None</td>\n",
              "      <td>[]</td>\n",
              "      <td>1961-11-05</td>\n",
              "      <td>None</td>\n",
              "      <td>CE</td>\n",
              "      <td>Fortaleza</td>\n",
              "      <td>Superior</td>\n",
              "    </tr>\n",
              "    <tr>\n",
              "      <th>0</th>\n",
              "      <td>[{'rel': 'self', 'href': 'https://dadosabertos...</td>\n",
              "      <td>2</td>\n",
              "      <td>https://dadosabertos.camara.leg.br/api/v2/depu...</td>\n",
              "      <td>Caetano Maria Lopes Gama</td>\n",
              "      <td>2</td>\n",
              "      <td>https://dadosabertos.camara.leg.br/api/v2/depu...</td>\n",
              "      <td>LOPES GAMA</td>\n",
              "      <td>None</td>\n",
              "      <td>None</td>\n",
              "      <td>GO</td>\n",
              "      <td>2</td>\n",
              "      <td>https://www.camara.leg.br/internet/deputado/ba...</td>\n",
              "      <td>None</td>\n",
              "      <td>None</td>\n",
              "      <td>LOPES GAMA</td>\n",
              "      <td>None</td>\n",
              "      <td>None</td>\n",
              "      <td>None</td>\n",
              "      <td>None</td>\n",
              "      <td>None</td>\n",
              "      <td>None</td>\n",
              "      <td>Vacância</td>\n",
              "      <td>None</td>\n",
              "      <td>None</td>\n",
              "      <td>None</td>\n",
              "      <td>M</td>\n",
              "      <td>None</td>\n",
              "      <td>[]</td>\n",
              "      <td>1795-08-05</td>\n",
              "      <td>None</td>\n",
              "      <td>PE</td>\n",
              "      <td>Recife</td>\n",
              "      <td>Superior</td>\n",
              "    </tr>\n",
              "  </tbody>\n",
              "</table>\n",
              "</div>"
            ],
            "text/plain": [
              "                                               links  ...  escolaridade\n",
              "0  [{'rel': 'self', 'href': 'https://dadosabertos...  ...      Superior\n",
              "0  [{'rel': 'self', 'href': 'https://dadosabertos...  ...      Superior\n",
              "\n",
              "[2 rows x 33 columns]"
            ]
          },
          "metadata": {
            "tags": []
          },
          "execution_count": 15
        }
      ]
    },
    {
      "cell_type": "code",
      "metadata": {
        "id": "PMfjNGfr8rRO"
      },
      "source": [
        "## Organizando a Df por Legislaturas\r\n",
        "# df_dados_pessoais.groupby()"
      ],
      "execution_count": null,
      "outputs": []
    },
    {
      "cell_type": "code",
      "metadata": {
        "id": "cCISFK2ob_k6"
      },
      "source": [
        ""
      ],
      "execution_count": null,
      "outputs": []
    },
    {
      "cell_type": "code",
      "metadata": {
        "colab": {
          "base_uri": "https://localhost:8080/"
        },
        "id": "puHCdaXzkqel",
        "outputId": "b8434d30-aa42-4a0a-b69b-c38e50dd2632"
      },
      "source": [
        "a = {1, 2, 3}\r\n",
        "b = {1, 5, 6}\r\n",
        "c = a.intersection(b)\r\n",
        "c"
      ],
      "execution_count": null,
      "outputs": [
        {
          "output_type": "execute_result",
          "data": {
            "text/plain": [
              "{1}"
            ]
          },
          "metadata": {
            "tags": []
          },
          "execution_count": 4
        }
      ]
    },
    {
      "cell_type": "code",
      "metadata": {
        "colab": {
          "base_uri": "https://localhost:8080/"
        },
        "id": "QXve2AOVpKUi",
        "outputId": "f9c82d54-0cb3-4a28-aeec-177bcf86a68a"
      },
      "source": [
        "a = \"Rafa\"\r\n",
        "def droite_test(name):\r\n",
        "  for x in list(range(0,len(name))):\r\n",
        "    print(name[x-1])\r\n",
        "\r\n",
        "droite_test(a)"
      ],
      "execution_count": null,
      "outputs": [
        {
          "output_type": "stream",
          "text": [
            "a\n",
            "R\n",
            "a\n",
            "f\n"
          ],
          "name": "stdout"
        }
      ]
    },
    {
      "cell_type": "code",
      "metadata": {
        "colab": {
          "base_uri": "https://localhost:8080/",
          "height": 35
        },
        "id": "pr3YTVjIr3Fp",
        "outputId": "3749b1fb-7f91-40ba-87a7-d4891ee95eb6"
      },
      "source": [
        "b = \"amor\"\r\n",
        "c = lambda x:  x + \"rosa\"\r\n",
        "c(b)"
      ],
      "execution_count": null,
      "outputs": [
        {
          "output_type": "execute_result",
          "data": {
            "application/vnd.google.colaboratory.intrinsic+json": {
              "type": "string"
            },
            "text/plain": [
              "'amorrosa'"
            ]
          },
          "metadata": {
            "tags": []
          },
          "execution_count": 24
        }
      ]
    },
    {
      "cell_type": "code",
      "metadata": {
        "colab": {
          "base_uri": "https://localhost:8080/",
          "height": 374
        },
        "id": "R9yp3vGA-FZy",
        "outputId": "2932d730-7084-48e2-eea8-8000a1a1f6ad"
      },
      "source": [
        "dica = {'A':'um', 'B':'dois'}\r\n",
        "dicb = {'A':'tres', 'B':'quatro'}\r\n",
        "df_a = pd.DataFrame(dica)\r\n",
        "df_b = pd.Dataframe(dicb)\r\n",
        "pd.concat(df_a, df_b)\r\n",
        "df_a"
      ],
      "execution_count": 44,
      "outputs": [
        {
          "output_type": "error",
          "ename": "ValueError",
          "evalue": "ignored",
          "traceback": [
            "\u001b[0;31m---------------------------------------------------------------------------\u001b[0m",
            "\u001b[0;31mValueError\u001b[0m                                Traceback (most recent call last)",
            "\u001b[0;32m<ipython-input-44-2639f96f97bb>\u001b[0m in \u001b[0;36m<module>\u001b[0;34m()\u001b[0m\n\u001b[1;32m      1\u001b[0m \u001b[0mdica\u001b[0m \u001b[0;34m=\u001b[0m \u001b[0;34m{\u001b[0m\u001b[0;34m'A'\u001b[0m\u001b[0;34m:\u001b[0m\u001b[0;34m'um'\u001b[0m\u001b[0;34m,\u001b[0m \u001b[0;34m'B'\u001b[0m\u001b[0;34m:\u001b[0m\u001b[0;34m'dois'\u001b[0m\u001b[0;34m}\u001b[0m\u001b[0;34m\u001b[0m\u001b[0;34m\u001b[0m\u001b[0m\n\u001b[1;32m      2\u001b[0m \u001b[0mdicb\u001b[0m \u001b[0;34m=\u001b[0m \u001b[0;34m{\u001b[0m\u001b[0;34m'A'\u001b[0m\u001b[0;34m:\u001b[0m\u001b[0;34m'tres'\u001b[0m\u001b[0;34m,\u001b[0m \u001b[0;34m'B'\u001b[0m\u001b[0;34m:\u001b[0m\u001b[0;34m'quatro'\u001b[0m\u001b[0;34m}\u001b[0m\u001b[0;34m\u001b[0m\u001b[0;34m\u001b[0m\u001b[0m\n\u001b[0;32m----> 3\u001b[0;31m \u001b[0mdf_a\u001b[0m \u001b[0;34m=\u001b[0m \u001b[0mpd\u001b[0m\u001b[0;34m.\u001b[0m\u001b[0mDataFrame\u001b[0m\u001b[0;34m(\u001b[0m\u001b[0mdica\u001b[0m\u001b[0;34m)\u001b[0m\u001b[0;34m\u001b[0m\u001b[0;34m\u001b[0m\u001b[0m\n\u001b[0m\u001b[1;32m      4\u001b[0m \u001b[0mdf_b\u001b[0m \u001b[0;34m=\u001b[0m \u001b[0mpd\u001b[0m\u001b[0;34m.\u001b[0m\u001b[0mDataframe\u001b[0m\u001b[0;34m(\u001b[0m\u001b[0mdicb\u001b[0m\u001b[0;34m)\u001b[0m\u001b[0;34m\u001b[0m\u001b[0;34m\u001b[0m\u001b[0m\n\u001b[1;32m      5\u001b[0m \u001b[0mpd\u001b[0m\u001b[0;34m.\u001b[0m\u001b[0mconcat\u001b[0m\u001b[0;34m(\u001b[0m\u001b[0mdf_a\u001b[0m\u001b[0;34m,\u001b[0m \u001b[0mdf_b\u001b[0m\u001b[0;34m)\u001b[0m\u001b[0;34m\u001b[0m\u001b[0;34m\u001b[0m\u001b[0m\n",
            "\u001b[0;32m/usr/local/lib/python3.7/dist-packages/pandas/core/frame.py\u001b[0m in \u001b[0;36m__init__\u001b[0;34m(self, data, index, columns, dtype, copy)\u001b[0m\n\u001b[1;32m    466\u001b[0m \u001b[0;34m\u001b[0m\u001b[0m\n\u001b[1;32m    467\u001b[0m         \u001b[0;32melif\u001b[0m \u001b[0misinstance\u001b[0m\u001b[0;34m(\u001b[0m\u001b[0mdata\u001b[0m\u001b[0;34m,\u001b[0m \u001b[0mdict\u001b[0m\u001b[0;34m)\u001b[0m\u001b[0;34m:\u001b[0m\u001b[0;34m\u001b[0m\u001b[0;34m\u001b[0m\u001b[0m\n\u001b[0;32m--> 468\u001b[0;31m             \u001b[0mmgr\u001b[0m \u001b[0;34m=\u001b[0m \u001b[0minit_dict\u001b[0m\u001b[0;34m(\u001b[0m\u001b[0mdata\u001b[0m\u001b[0;34m,\u001b[0m \u001b[0mindex\u001b[0m\u001b[0;34m,\u001b[0m \u001b[0mcolumns\u001b[0m\u001b[0;34m,\u001b[0m \u001b[0mdtype\u001b[0m\u001b[0;34m=\u001b[0m\u001b[0mdtype\u001b[0m\u001b[0;34m)\u001b[0m\u001b[0;34m\u001b[0m\u001b[0;34m\u001b[0m\u001b[0m\n\u001b[0m\u001b[1;32m    469\u001b[0m         \u001b[0;32melif\u001b[0m \u001b[0misinstance\u001b[0m\u001b[0;34m(\u001b[0m\u001b[0mdata\u001b[0m\u001b[0;34m,\u001b[0m \u001b[0mma\u001b[0m\u001b[0;34m.\u001b[0m\u001b[0mMaskedArray\u001b[0m\u001b[0;34m)\u001b[0m\u001b[0;34m:\u001b[0m\u001b[0;34m\u001b[0m\u001b[0;34m\u001b[0m\u001b[0m\n\u001b[1;32m    470\u001b[0m             \u001b[0;32mimport\u001b[0m \u001b[0mnumpy\u001b[0m\u001b[0;34m.\u001b[0m\u001b[0mma\u001b[0m\u001b[0;34m.\u001b[0m\u001b[0mmrecords\u001b[0m \u001b[0;32mas\u001b[0m \u001b[0mmrecords\u001b[0m\u001b[0;34m\u001b[0m\u001b[0;34m\u001b[0m\u001b[0m\n",
            "\u001b[0;32m/usr/local/lib/python3.7/dist-packages/pandas/core/internals/construction.py\u001b[0m in \u001b[0;36minit_dict\u001b[0;34m(data, index, columns, dtype)\u001b[0m\n\u001b[1;32m    281\u001b[0m             \u001b[0marr\u001b[0m \u001b[0;32mif\u001b[0m \u001b[0;32mnot\u001b[0m \u001b[0mis_datetime64tz_dtype\u001b[0m\u001b[0;34m(\u001b[0m\u001b[0marr\u001b[0m\u001b[0;34m)\u001b[0m \u001b[0;32melse\u001b[0m \u001b[0marr\u001b[0m\u001b[0;34m.\u001b[0m\u001b[0mcopy\u001b[0m\u001b[0;34m(\u001b[0m\u001b[0;34m)\u001b[0m \u001b[0;32mfor\u001b[0m \u001b[0marr\u001b[0m \u001b[0;32min\u001b[0m \u001b[0marrays\u001b[0m\u001b[0;34m\u001b[0m\u001b[0;34m\u001b[0m\u001b[0m\n\u001b[1;32m    282\u001b[0m         ]\n\u001b[0;32m--> 283\u001b[0;31m     \u001b[0;32mreturn\u001b[0m \u001b[0marrays_to_mgr\u001b[0m\u001b[0;34m(\u001b[0m\u001b[0marrays\u001b[0m\u001b[0;34m,\u001b[0m \u001b[0mdata_names\u001b[0m\u001b[0;34m,\u001b[0m \u001b[0mindex\u001b[0m\u001b[0;34m,\u001b[0m \u001b[0mcolumns\u001b[0m\u001b[0;34m,\u001b[0m \u001b[0mdtype\u001b[0m\u001b[0;34m=\u001b[0m\u001b[0mdtype\u001b[0m\u001b[0;34m)\u001b[0m\u001b[0;34m\u001b[0m\u001b[0;34m\u001b[0m\u001b[0m\n\u001b[0m\u001b[1;32m    284\u001b[0m \u001b[0;34m\u001b[0m\u001b[0m\n\u001b[1;32m    285\u001b[0m \u001b[0;34m\u001b[0m\u001b[0m\n",
            "\u001b[0;32m/usr/local/lib/python3.7/dist-packages/pandas/core/internals/construction.py\u001b[0m in \u001b[0;36marrays_to_mgr\u001b[0;34m(arrays, arr_names, index, columns, dtype, verify_integrity)\u001b[0m\n\u001b[1;32m     76\u001b[0m         \u001b[0;31m# figure out the index, if necessary\u001b[0m\u001b[0;34m\u001b[0m\u001b[0;34m\u001b[0m\u001b[0;34m\u001b[0m\u001b[0m\n\u001b[1;32m     77\u001b[0m         \u001b[0;32mif\u001b[0m \u001b[0mindex\u001b[0m \u001b[0;32mis\u001b[0m \u001b[0;32mNone\u001b[0m\u001b[0;34m:\u001b[0m\u001b[0;34m\u001b[0m\u001b[0;34m\u001b[0m\u001b[0m\n\u001b[0;32m---> 78\u001b[0;31m             \u001b[0mindex\u001b[0m \u001b[0;34m=\u001b[0m \u001b[0mextract_index\u001b[0m\u001b[0;34m(\u001b[0m\u001b[0marrays\u001b[0m\u001b[0;34m)\u001b[0m\u001b[0;34m\u001b[0m\u001b[0;34m\u001b[0m\u001b[0m\n\u001b[0m\u001b[1;32m     79\u001b[0m         \u001b[0;32melse\u001b[0m\u001b[0;34m:\u001b[0m\u001b[0;34m\u001b[0m\u001b[0;34m\u001b[0m\u001b[0m\n\u001b[1;32m     80\u001b[0m             \u001b[0mindex\u001b[0m \u001b[0;34m=\u001b[0m \u001b[0mensure_index\u001b[0m\u001b[0;34m(\u001b[0m\u001b[0mindex\u001b[0m\u001b[0;34m)\u001b[0m\u001b[0;34m\u001b[0m\u001b[0;34m\u001b[0m\u001b[0m\n",
            "\u001b[0;32m/usr/local/lib/python3.7/dist-packages/pandas/core/internals/construction.py\u001b[0m in \u001b[0;36mextract_index\u001b[0;34m(data)\u001b[0m\n\u001b[1;32m    385\u001b[0m \u001b[0;34m\u001b[0m\u001b[0m\n\u001b[1;32m    386\u001b[0m         \u001b[0;32mif\u001b[0m \u001b[0;32mnot\u001b[0m \u001b[0mindexes\u001b[0m \u001b[0;32mand\u001b[0m \u001b[0;32mnot\u001b[0m \u001b[0mraw_lengths\u001b[0m\u001b[0;34m:\u001b[0m\u001b[0;34m\u001b[0m\u001b[0;34m\u001b[0m\u001b[0m\n\u001b[0;32m--> 387\u001b[0;31m             \u001b[0;32mraise\u001b[0m \u001b[0mValueError\u001b[0m\u001b[0;34m(\u001b[0m\u001b[0;34m\"If using all scalar values, you must pass an index\"\u001b[0m\u001b[0;34m)\u001b[0m\u001b[0;34m\u001b[0m\u001b[0;34m\u001b[0m\u001b[0m\n\u001b[0m\u001b[1;32m    388\u001b[0m \u001b[0;34m\u001b[0m\u001b[0m\n\u001b[1;32m    389\u001b[0m         \u001b[0;32mif\u001b[0m \u001b[0mhave_series\u001b[0m\u001b[0;34m:\u001b[0m\u001b[0;34m\u001b[0m\u001b[0;34m\u001b[0m\u001b[0m\n",
            "\u001b[0;31mValueError\u001b[0m: If using all scalar values, you must pass an index"
          ]
        }
      ]
    }
  ]
}